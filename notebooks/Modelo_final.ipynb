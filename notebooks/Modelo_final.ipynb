{
 "cells": [
  {
   "cell_type": "markdown",
   "id": "231c4e1d",
   "metadata": {},
   "source": [
    "# Projeto de Análise Preditiva de Inadimplência"
   ]
  },
  {
   "cell_type": "markdown",
   "id": "2339aa84",
   "metadata": {},
   "source": [
    "### Simulação de ganhos em decisão de crédito com uso de modelo preditivo"
   ]
  },
  {
   "cell_type": "markdown",
   "id": "a267c190",
   "metadata": {},
   "source": [
    "Esta simulação tem como objetivo estimar o impacto financeiro da aplicação de um modelo de Machine Learning na decisão de aprovar ou negar crédito para clientes, comparando com o cenário onde o banco aprova todos indiscriminadamente. "
   ]
  },
  {
   "cell_type": "markdown",
   "id": "e87e7ff2",
   "metadata": {},
   "source": [
    "#### Cenário A: Com Modelo \n",
    "\n",
    "Neste cenário, usamos um modelo preditivo (Random Forest) treinado com os dados dos clientes. A decisão de aprovar ou negar crédito é baseada na previsão do modelo: \n",
    "\n",
    "- Se o modelo prevê que o cliente vai pagar (classe 0) → APROVA; \n",
    "- Se o modelo prevê que o cliente vai dar calote (classe 1) → NEGA. \n",
    "\n",
    "A qualidade do modelo foi avaliada por meio da matriz de confusão com os seguintes valores: \n",
    "\n",
    "\n",
    "\n",
    " "
   ]
  },
  {
   "cell_type": "markdown",
   "id": "4a115bd2",
   "metadata": {},
   "source": [
    "Cálculo de Lucro com Modelo \n",
    "- Usamos valores médios reais do dataset para estimar o ganho/perda: \n",
    "- Lucro por cliente bom aprovado (VP): R$ 255,59 \n",
    "- Prejuízo por cliente ruim aprovado (FP): R$ 2.562,01 \n",
    "- Perda de oportunidade por cliente bom negado (FN): R$ 255,59 \n",
    "- Negar cliente ruim (VN): sem ganho ou perda \n"
   ]
  },
  {
   "cell_type": "markdown",
   "id": "f84e41c4",
   "metadata": {},
   "source": [
    "Resultados:  \n",
    "\n",
    "- Lucro com modelo preditivo (XGBoost): R$ 15,810,677.12  \n",
    "- Prejuízo sem modelo (aprovação irrestrita): R$ -18,034,991.56  \n",
    "- Diferença de ganho ao usar o modelo: R$ 33,845,668.68 "
   ]
  },
  {
   "cell_type": "markdown",
   "id": "e2cc021d",
   "metadata": {},
   "source": [
    "#### Cenário B: Sem Modelo \n",
    "\n",
    "1. Regras Manuais\n",
    "\n",
    "A estratégia baseada em regras manuais considerou os seguintes critérios para aprovação:\n",
    "\n",
    "- Score externo (ext_score_1) acima de 550\n",
    "- Renda superior a R$ 3.500\n",
    "- Ocupação do tipo \"CLT\", \"public\" ou \"servidor público\"\n",
    "- Comprometimento com dívidas ativas inferior a 50% da renda\n",
    "\n",
    "2. Resultados:\n",
    "Taxa de aprovação: aproximadamente 21% dos clientes\n",
    "\n",
    "Inadimplência entre os aprovados: 63,65%\n",
    "\n",
    "Lucro estimado total: R$ XX.XXX (calculado com +R$ 1.000 por cliente adimplente aprovado e -R$ 2.000 por inadimplente)"
   ]
  },
  {
   "cell_type": "markdown",
   "id": "442ae368",
   "metadata": {},
   "source": [
    "Insghts:  \n",
    "\n",
    "O uso do modelo preditivo resultaria em um ganho estimado de mais de R$ 33 milhões em comparação com a aprovação irrestrita de crédito. \n",
    "A estratégia baseada em Machine Learning é altamente recomendável para maximizar lucros e mitigar riscos de inadimplência. \n",
    "\n",
    "Apesar de a estratégia manual ser mais conservadora, ela acabou rejeitando diversos clientes adimplentes, o que representa perda de receita potencial. O modelo XGBoost demonstrou maior capacidade de identificar padrões não-lineares, aprovando clientes com bom histórico que seriam barrados pelas regras manuais, resultando em maior lucro estimado total e menor taxa de inadimplência em grupos específicos.\n",
    "\n",
    "Essa análise evidencia que a incorporação de modelos preditivos no processo de decisão pode otimizar a política de crédito, combinando maior retorno financeiro com controle de risco."
   ]
  },
  {
   "cell_type": "markdown",
   "id": "de25bc5f",
   "metadata": {},
   "source": [
    "#### Modelo em produção:"
   ]
  },
  {
   "cell_type": "code",
   "execution_count": null,
   "id": "711d734c",
   "metadata": {},
   "outputs": [],
   "source": [
    "import os\n",
    "import random\n",
    "import numpy as np\n",
    "import pandas as pd\n",
    "import joblib\n",
    "import seaborn as sns\n",
    "import xgboost as xgb\n",
    "from scipy import stats\n",
    "import matplotlib.pyplot as plt\n",
    "import seaborn as sns\n",
    "from sklearn.metrics import RocCurveDisplay, ConfusionMatrixDisplay\n",
    "import warnings\n",
    "warnings.filterwarnings('ignore')\n",
    "\n",
    "# Reprodutibilidade\n",
    "SEED = 42\n",
    "random.seed(SEED)\n",
    "np.random.seed(SEED)\n",
    "os.environ['PYTHONHASHSEED'] = str(SEED)\n",
    "\n",
    "from sklearn.model_selection import (\n",
    "    train_test_split, StratifiedKFold, RandomizedSearchCV,\n",
    "    cross_val_score, cross_validate\n",
    ")\n",
    "from sklearn.preprocessing import StandardScaler\n",
    "from sklearn.impute import SimpleImputer\n",
    "from sklearn.metrics import (\n",
    "    classification_report, confusion_matrix, accuracy_score,\n",
    "    precision_score, recall_score, f1_score, roc_auc_score,\n",
    "    roc_curve, precision_recall_curve, average_precision_score\n",
    ")\n",
    "from sklearn.calibration import CalibratedClassifierCV\n"
   ]
  },
  {
   "cell_type": "markdown",
   "id": "c37e0a82",
   "metadata": {},
   "source": [
    "##### CARREGAMENTO E ANÁLISE INICIAL DOS DADOS"
   ]
  },
  {
   "cell_type": "code",
   "execution_count": 22,
   "id": "138cf1f8",
   "metadata": {},
   "outputs": [
    {
     "name": "stdout",
     "output_type": "stream",
     "text": [
      "Shape inicial: (53109, 25)\n",
      "Taxa de inadimplência: 16.02%\n",
      "\n",
      "  Variáveis com possível data leakage:\n",
      "- payment_sum: média = 8381.35, correlação com default = 0.003\n",
      "- spends_sum: média = 9805.02, correlação com default = 0.021\n",
      "- credit_line_sum: média = 19252.13, correlação com default = 0.034\n",
      "- history_months: média = 6.53, correlação com default = 0.061\n"
     ]
    }
   ],
   "source": [
    "# Carregar dados\n",
    "df = pd.read_pickle('../data/df_unique.pkl')\n",
    "print(f\"Shape inicial: {df.shape}\")\n",
    "print(f\"Taxa de inadimplência: {df['default'].mean():.2%}\")\n",
    "\n",
    "# Identificar variáveis com possível data leakage\n",
    "potential_leakage = [\n",
    "    'payment_sum',      # Soma de pagamentos futuros\n",
    "    'spends_sum',       # Soma de gastos futuros\n",
    "    'credit_line_sum',  # Soma de linhas de crédito\n",
    "    'history_months',   # Verificar se é anterior à concessão\n",
    "    'history_days'      # Verificar se é anterior à concessão\n",
    "]\n",
    "\n",
    "print(\"\\n  Variáveis com possível data leakage:\")\n",
    "for col in potential_leakage:\n",
    "    if col in df.columns:\n",
    "        print(f\"- {col}: média = {df[col].mean():.2f}, correlação com default = {df[col].corr(df['default']):.3f}\")"
   ]
  },
  {
   "cell_type": "markdown",
   "id": "196ba856",
   "metadata": {},
   "source": [
    "##### DIVISÃO TREINO/TESTE"
   ]
  },
  {
   "cell_type": "code",
   "execution_count": 23,
   "id": "5af50d40",
   "metadata": {},
   "outputs": [
    {
     "name": "stdout",
     "output_type": "stream",
     "text": [
      "\n",
      "Dados de treino: (42487, 24)\n",
      "Dados de teste: (10622, 24)\n",
      "Taxa de default no treino: 16.02%\n",
      "Taxa de default no teste: 16.02%\n"
     ]
    }
   ],
   "source": [
    "# Separar features e target\n",
    "feature_cols = [col for col in df.columns if col != 'default']\n",
    "X = df[feature_cols]\n",
    "y = df['default']\n",
    "\n",
    "# Split estratificado\n",
    "X_train, X_test, y_train, y_test = train_test_split(\n",
    "    X, y, test_size=0.2, random_state=SEED, stratify=y\n",
    ")\n",
    "\n",
    "print(f\"\\nDados de treino: {X_train.shape}\")\n",
    "print(f\"Dados de teste: {X_test.shape}\")\n",
    "print(f\"Taxa de default no treino: {y_train.mean():.2%}\")\n",
    "print(f\"Taxa de default no teste: {y_test.mean():.2%}\")\n"
   ]
  },
  {
   "cell_type": "markdown",
   "id": "b29dfe32",
   "metadata": {},
   "source": [
    "##### REFORMULAÇÃO DE VARIÁVEIS COM POTENCIAL LEAKAGE"
   ]
  },
  {
   "cell_type": "code",
   "execution_count": 24,
   "id": "ba9c3d8a",
   "metadata": {},
   "outputs": [
    {
     "name": "stdout",
     "output_type": "stream",
     "text": [
      "Variáveis reformuladas adicionadas:\n",
      "['payment_initial_flag', 'payment_per_day', 'spends_cat', 'spends_ratio', 'credit_income_ratio', 'credit_high_flag', 'history_bucket', 'new_customer_flag']\n"
     ]
    }
   ],
   "source": [
    "# --- payment_sum (pagamentos futuros) ---\n",
    "# Criar variável binária: cliente fez algum pagamento inicial?\n",
    "df[\"payment_initial_flag\"] = (df[\"payment_sum\"] > 0).astype(int)\n",
    "\n",
    "# Opcional: normalizar pelos dias de histórico (se tiver)\n",
    "if \"history_days\" in df.columns:\n",
    "    df[\"payment_per_day\"] = df[\"payment_sum\"] / (df[\"history_days\"] + 1)\n",
    "\n",
    "# ---  spends_sum (gastos futuros) ---\n",
    "# Criar faixas de gasto inicial (proxy para comportamento de risco)\n",
    "df[\"spends_cat\"] = pd.qcut(df[\"spends_sum\"], q=5, labels=False, duplicates=\"drop\")\n",
    "\n",
    "# Também pode criar proporção de gasto em relação à linha de crédito\n",
    "if \"credit_line_sum\" in df.columns:\n",
    "    df[\"spends_ratio\"] = df[\"spends_sum\"] / (df[\"credit_line_sum\"] + 1)\n",
    "\n",
    "# ---  credit_line_sum (soma de linhas de crédito) ---\n",
    "# Relação com renda (se houver a variável 'income')\n",
    "if \"income\" in df.columns:\n",
    "    df[\"credit_income_ratio\"] = df[\"credit_line_sum\"] / (df[\"income\"] + 1)\n",
    "\n",
    "# Binário: linha de crédito acima da mediana do portfólio\n",
    "median_credit = df[\"credit_line_sum\"].median()\n",
    "df[\"credit_high_flag\"] = (df[\"credit_line_sum\"] > median_credit).astype(int)\n",
    "\n",
    "#  history_months / history_days ---\n",
    "df[\"history_bucket\"] = pd.qcut(\n",
    "    df[\"history_months\"],\n",
    "    q=5,\n",
    "    labels=[\"Q1\", \"Q2\", \"Q3\", \"Q4\", \"Q5\"]\n",
    ")\n",
    "\n",
    "# Binário: cliente novo ou não (<= 6 meses)\n",
    "df[\"new_customer_flag\"] = (df[\"history_months\"] <= 6).astype(int)\n",
    "\n",
    "# =====================================================\n",
    "print(\"Variáveis reformuladas adicionadas:\")\n",
    "print([\n",
    "    \"payment_initial_flag\",\n",
    "    \"payment_per_day\",\n",
    "    \"spends_cat\",\n",
    "    \"spends_ratio\",\n",
    "    \"credit_income_ratio\",\n",
    "    \"credit_high_flag\",\n",
    "    \"history_bucket\",\n",
    "    \"new_customer_flag\"\n",
    "])"
   ]
  },
  {
   "cell_type": "markdown",
   "id": "1277ad30",
   "metadata": {},
   "source": [
    "##### LIMPEZA E PREPARAÇÃO DOS DADOS"
   ]
  },
  {
   "cell_type": "code",
   "execution_count": 25,
   "id": "0dde17e1",
   "metadata": {},
   "outputs": [],
   "source": [
    "# Remover variáveis com data leakage confirmado\n",
    "df_clean = df.drop(columns=['payment_sum', 'spends_sum', 'credit_line_sum'], errors='ignore')\n",
    "\n",
    "# Criar features temporais corretas\n",
    "df_clean['date_min'] = pd.to_datetime(df_clean['date_min'])\n",
    "df_clean['date_max'] = pd.to_datetime(df_clean['date_max'])\n",
    "df_clean['account_age_days'] = (df_clean['date_max'] - df_clean['date_min']).dt.days\n",
    "\n",
    "# Remover colunas desnecessárias\n",
    "cols_to_drop = ['ids', 'channel', 'date_min', 'date_max', 'score_date']\n",
    "df_clean = df_clean.drop(columns=[col for col in cols_to_drop if col in df_clean.columns])\n",
    "\n",
    "# Tratar variáveis categóricas\n",
    "df_clean['gender'] = df_clean['gender'].map({'m': 1, 'f': 0})\n",
    "df_clean['flag_document_A'] = df_clean['flag_document_A'].fillna(0).astype(int)"
   ]
  },
  {
   "cell_type": "markdown",
   "id": "407fc7cb",
   "metadata": {},
   "source": [
    "#####  FEATURE ENGINEERING"
   ]
  },
  {
   "cell_type": "code",
   "execution_count": 26,
   "id": "f4e5e8c3",
   "metadata": {},
   "outputs": [],
   "source": [
    "# Criar novas features\n",
    "df_clean['debt_to_income_ratio'] = df_clean['amt_active_loan'] / (df_clean['income'] + 1)\n",
    "df_clean['credit_utilization'] = df_clean['amt_active_loan'] / (df_clean['credit_card_initial_line'] + 1)\n",
    "df_clean['age_income_interaction'] = df_clean['age'] * df_clean['income']\n",
    "df_clean['external_score_avg'] = (df_clean['ext_score_1'] + df_clean['ext_score_4']) / 2\n",
    "\n",
    "# Log transformation para variáveis com distribuição assimétrica\n",
    "df_clean['log_income'] = np.log1p(df_clean['income'])\n",
    "df_clean['log_amt_active_loan'] = np.log1p(df_clean['amt_active_loan'])"
   ]
  },
  {
   "cell_type": "markdown",
   "id": "543ac08d",
   "metadata": {},
   "source": [
    "##### PRÉ-PROCESSAMENTO"
   ]
  },
  {
   "cell_type": "code",
   "execution_count": 27,
   "id": "6eb930a5",
   "metadata": {},
   "outputs": [],
   "source": [
    "# Identificar colunas numéricas e categóricas\n",
    "numeric_cols = X_train.select_dtypes(include=[np.number]).columns.tolist()\n",
    "categorical_cols = ['ext_score_2', 'ext_score_3', 'occupation_type']\n",
    "categorical_cols = [col for col in categorical_cols if col in X_train.columns]\n",
    "\n",
    "# Target Encoding sem vazamento de dados\n",
    "def target_encode_safe(X_train, y_train, X_test, cat_cols, smoothing=10):\n",
    "    \"\"\"Target encoding com smoothing e sem data leakage\"\"\"\n",
    "    X_train_encoded = X_train.copy()\n",
    "    X_test_encoded = X_test.copy()\n",
    "    \n",
    "    for col in cat_cols:\n",
    "        # Calcular médias com smoothing\n",
    "        temp = pd.DataFrame({col: X_train[col], 'target': y_train})\n",
    "        means = temp.groupby(col)['target'].agg(['mean', 'count'])\n",
    "        global_mean = y_train.mean()\n",
    "        \n",
    "        # Aplicar smoothing\n",
    "        smooth_mean = (means['mean'] * means['count'] + global_mean * smoothing) / (means['count'] + smoothing)\n",
    "        \n",
    "        # Mapear valores\n",
    "        X_train_encoded[f'{col}_encoded'] = X_train[col].map(smooth_mean).fillna(global_mean)\n",
    "        X_test_encoded[f'{col}_encoded'] = X_test[col].map(smooth_mean).fillna(global_mean)\n",
    "        \n",
    "        # Remover coluna original\n",
    "        X_train_encoded = X_train_encoded.drop(col, axis=1)\n",
    "        X_test_encoded = X_test_encoded.drop(col, axis=1)\n",
    "    \n",
    "    return X_train_encoded, X_test_encoded\n",
    "\n",
    "# Aplicar target encoding\n",
    "X_train_encoded, X_test_encoded = target_encode_safe(X_train, y_train, X_test, categorical_cols)\n",
    "X_train_encoded = X_train_encoded.select_dtypes(include=[np.number])\n",
    "X_test_encoded = X_test_encoded.select_dtypes(include=[np.number])\n",
    "\n",
    "# Imputação e normalização\n",
    "imputer = SimpleImputer(strategy='median')\n",
    "scaler = StandardScaler()\n",
    "\n",
    "X_train_imputed = pd.DataFrame(\n",
    "    imputer.fit_transform(X_train_encoded),\n",
    "    columns=X_train_encoded.columns,\n",
    "    index=X_train_encoded.index\n",
    ")\n",
    "\n",
    "X_test_imputed = pd.DataFrame(\n",
    "    imputer.transform(X_test_encoded),\n",
    "    columns=X_test_encoded.columns,\n",
    "    index=X_test_encoded.index\n",
    ")\n",
    "\n",
    "# Normalizar apenas features numéricas de alta variância\n",
    "high_variance_cols = X_train_imputed.std().sort_values(ascending=False).head(10).index.tolist()\n",
    "X_train_scaled = X_train_imputed.copy()\n",
    "X_test_scaled = X_test_imputed.copy()\n",
    "\n",
    "X_train_scaled[high_variance_cols] = scaler.fit_transform(X_train_imputed[high_variance_cols])\n",
    "X_test_scaled[high_variance_cols] = scaler.transform(X_test_imputed[high_variance_cols])"
   ]
  },
  {
   "cell_type": "markdown",
   "id": "457bcd6f",
   "metadata": {},
   "source": [
    "##### OTIMIZAÇÃO DE HIPERPARÂMETROS"
   ]
  },
  {
   "cell_type": "code",
   "execution_count": 28,
   "id": "04883601",
   "metadata": {},
   "outputs": [
    {
     "name": "stdout",
     "output_type": "stream",
     "text": [
      "🔍 Iniciando busca de hiperparâmetros...\n",
      "Fitting 5 folds for each of 30 candidates, totalling 150 fits\n",
      "\n",
      "Melhores parâmetros encontrados:\n",
      "  subsample: 0.8\n",
      "  scale_pos_weight: 1\n",
      "  reg_lambda: 0.1\n",
      "  reg_alpha: 0.01\n",
      "  n_estimators: 300\n",
      "  min_child_weight: 3\n",
      "  max_depth: 3\n",
      "  learning_rate: 0.1\n",
      "  gamma: 0\n",
      "  colsample_bytree: 0.7\n",
      "\n",
      "Melhor score CV (ROC-AUC): 0.986\n"
     ]
    }
   ],
   "source": [
    "# Grid de parâmetros para busca\n",
    "param_distributions = {\n",
    "    'n_estimators': [100, 200, 300],\n",
    "    'max_depth': [3, 4, 5, 6],\n",
    "    'learning_rate': [0.01, 0.05, 0.1],\n",
    "    'subsample': [0.7, 0.8, 0.9],\n",
    "    'colsample_bytree': [0.7, 0.8, 0.9],\n",
    "    'min_child_weight': [1, 3, 5],\n",
    "    'gamma': [0, 0.1, 0.2],\n",
    "    'reg_alpha': [0, 0.01, 0.1],\n",
    "    'reg_lambda': [0.1, 0.5, 1],\n",
    "    'scale_pos_weight': [1, 3, 5]  # Para lidar com desbalanceamento\n",
    "}\n",
    "\n",
    "# Busca randomizada com validação cruzada\n",
    "xgb_model = xgb.XGBClassifier(\n",
    "    random_state=SEED,\n",
    "    use_label_encoder=False,\n",
    "    eval_metric='logloss'\n",
    ")\n",
    "\n",
    "random_search = RandomizedSearchCV(\n",
    "    estimator=xgb_model,\n",
    "    param_distributions=param_distributions,\n",
    "    n_iter=30,\n",
    "    cv=StratifiedKFold(n_splits=5, shuffle=True, random_state=SEED),\n",
    "    scoring='roc_auc',\n",
    "    n_jobs=-1,\n",
    "    random_state=SEED,\n",
    "    verbose=1\n",
    ")\n",
    "\n",
    "print(\"🔍 Iniciando busca de hiperparâmetros...\")\n",
    "random_search.fit(X_train_scaled, y_train)\n",
    "best_model = random_search.best_estimator_\n",
    "\n",
    "print(f\"\\nMelhores parâmetros encontrados:\")\n",
    "for param, value in random_search.best_params_.items():\n",
    "    print(f\"  {param}: {value}\")\n",
    "print(f\"\\nMelhor score CV (ROC-AUC): {random_search.best_score_:.3f}\")\n"
   ]
  },
  {
   "cell_type": "markdown",
   "id": "695d0059",
   "metadata": {},
   "source": [
    "##### AVALIAÇÃO DO MODELO"
   ]
  },
  {
   "cell_type": "code",
   "execution_count": 29,
   "id": "69721aa2",
   "metadata": {},
   "outputs": [
    {
     "name": "stdout",
     "output_type": "stream",
     "text": [
      "\n",
      "📊 MÉTRICAS DE PERFORMANCE:\n",
      "==================================================\n",
      "Accuracy: 0.833\n",
      "Precision: 0.456\n",
      "Recall: 0.225\n",
      "F1-Score: 0.301\n",
      "Average Precision: 0.326\n"
     ]
    }
   ],
   "source": [
    "# Predições\n",
    "y_pred_P = best_model.predict(X_test_scaled)\n",
    "y_proba_P = best_model.predict_proba(X_test_scaled)[:, 1]\n",
    "\n",
    "# Métricas básicas\n",
    "print(\"\\n📊 MÉTRICAS DE PERFORMANCE:\")\n",
    "print(\"=\"*50)\n",
    "print(f\"Accuracy: {accuracy_score(y_test, y_pred_P):.3f}\")\n",
    "print(f\"Precision: {precision_score(y_test, y_pred_P):.3f}\")\n",
    "print(f\"Recall: {recall_score(y_test, y_pred_P):.3f}\")\n",
    "print(f\"F1-Score: {f1_score(y_test, y_pred_P):.3f}\")\n",
    "print(f\"Average Precision: {average_precision_score(y_test, y_proba_P):.3f}\")"
   ]
  },
  {
   "cell_type": "code",
   "execution_count": 30,
   "id": "d8ab6ee7",
   "metadata": {},
   "outputs": [
    {
     "data": {
      "text/plain": [
       "<Figure size 600x600 with 0 Axes>"
      ]
     },
     "metadata": {},
     "output_type": "display_data"
    },
    {
     "data": {
      "image/png": "[encoded data removed]",
      "text/plain": [
       "<Figure size 640x480 with 1 Axes>"
      ]
     },
     "metadata": {},
     "output_type": "display_data"
    }
   ],
   "source": [
    "# --- Curva ROC ---\n",
    "plt.figure(figsize=(6, 6))\n",
    "RocCurveDisplay.from_estimator(best_model, X_test_scaled, y_test)\n",
    "plt.plot([0, 1], [0, 1], linestyle='--', color='gray')  # linha aleatória\n",
    "plt.title(\"Curva ROC\")\n",
    "plt.show()"
   ]
  },
  {
   "cell_type": "code",
   "execution_count": 31,
   "id": "ef549b7f",
   "metadata": {},
   "outputs": [
    {
     "data": {
      "image/png": "[encoded data removed]",
      "text/plain": [
       "<Figure size 600x500 with 1 Axes>"
      ]
     },
     "metadata": {},
     "output_type": "display_data"
    },
    {
     "name": "stdout",
     "output_type": "stream",
     "text": [
      "\n",
      "Taxa de Falso Positivo: 0.051\n",
      "Taxa de Falso Negativo: 0.775\n"
     ]
    }
   ],
   "source": [
    "# --- Matriz de Confusão ---\n",
    "\n",
    "cm = confusion_matrix(y_test, y_pred_P)\n",
    "tn, fp, fn, tp = cm.ravel()\n",
    "\n",
    "plt.figure(figsize=(6, 5))\n",
    "cm = confusion_matrix(y_test, y_pred_P)\n",
    "sns.heatmap(cm, annot=True, fmt=\"d\", cmap=\"Blues\", cbar=False,\n",
    "            xticklabels=[\"Previsto: 0\", \"Previsto: 1\"],\n",
    "            yticklabels=[\"Real: 0\", \"Real: 1\"])\n",
    "plt.title(\"Matriz de Confusão\")\n",
    "plt.ylabel(\"Valor Real\")\n",
    "plt.xlabel(\"Valor Previsto\")\n",
    "plt.show()\n",
    "\n",
    "print(f\"\\nTaxa de Falso Positivo: {fp/(fp+tn):.3f}\")\n",
    "print(f\"Taxa de Falso Negativo: {fn/(fn+tp):.3f}\")"
   ]
  },
  {
   "cell_type": "markdown",
   "id": "cfe2c5ec",
   "metadata": {},
   "source": [
    "##### OTIMIZAÇÃO DO THRESHOLD"
   ]
  },
  {
   "cell_type": "code",
   "execution_count": 32,
   "id": "849efa5f",
   "metadata": {},
   "outputs": [
    {
     "name": "stdout",
     "output_type": "stream",
     "text": [
      "\n",
      " OTIMIZAÇÃO DE THRESHOLD:\n",
      "Threshold padrão: 0.500\n",
      "Threshold ótimo (max F1): 0.267\n",
      "\n",
      "Métricas com threshold ótimo:\n",
      "  Precision: 0.341\n",
      "  Recall: 0.503\n",
      "  F1-Score: 0.406\n"
     ]
    }
   ],
   "source": [
    "# Calcular precisão e recall para diferentes thresholds\n",
    "precision, recall, thresholds = precision_recall_curve(y_test, y_proba_P)\n",
    "\n",
    "# F1 scores para cada threshold\n",
    "f1_scores = 2 * (precision * recall) / (precision + recall + 1e-8)\n",
    "optimal_idx = np.argmax(f1_scores[:-1])\n",
    "optimal_threshold = thresholds[optimal_idx]\n",
    "\n",
    "print(f\"\\n OTIMIZAÇÃO DE THRESHOLD:\")\n",
    "print(f\"Threshold padrão: 0.500\")\n",
    "print(f\"Threshold ótimo (max F1): {optimal_threshold:.3f}\")\n",
    "\n",
    "# Aplicar threshold ótimo\n",
    "y_pred_optimal = (y_proba_P >= optimal_threshold).astype(int)\n",
    "print(f\"\\nMétricas com threshold ótimo:\")\n",
    "print(f\"  Precision: {precision_score(y_test, y_pred_optimal):.3f}\")\n",
    "print(f\"  Recall: {recall_score(y_test, y_pred_optimal):.3f}\")\n",
    "print(f\"  F1-Score: {f1_score(y_test, y_pred_optimal):.3f}\")"
   ]
  },
  {
   "cell_type": "code",
   "execution_count": 33,
   "id": "798c6f75",
   "metadata": {},
   "outputs": [
    {
     "data": {
      "image/png": "[encoded data removed]",
      "text/plain": [
       "<Figure size 1000x800 with 1 Axes>"
      ]
     },
     "metadata": {},
     "output_type": "display_data"
    }
   ],
   "source": [
    "fig, ax = plt.subplots(1, 1, figsize=(10, 8))\n",
    "sns.kdeplot(y_proba_P[y_test == 0], ax=ax, color=\"b\", fill=True, label='Pagou')\n",
    "sns.kdeplot(y_proba_P[y_test == 1], ax=ax, color=\"r\", fill=True, label='Não pagou')\n",
    "plt.title(\"Distribuição de Score por Inadimplência ou Não\")\n",
    "plt.xlabel(\"Score do Modelo (Probabilidade)\")\n",
    "plt.ylabel(\"Densidade\")\n",
    "plt.legend()\n",
    "plt.grid(True)\n",
    "plt.show()"
   ]
  },
  {
   "cell_type": "markdown",
   "id": "2d48f18b",
   "metadata": {},
   "source": [
    "##### CALIBRAÇÃO DO MODELO"
   ]
  },
  {
   "cell_type": "code",
   "execution_count": 34,
   "id": "b911a6b3",
   "metadata": {},
   "outputs": [
    {
     "name": "stdout",
     "output_type": "stream",
     "text": [
      "Brier Score Original: 0.132\n",
      "Brier Score Calibrado: 0.132\n"
     ]
    }
   ],
   "source": [
    "calibrated_clf = CalibratedClassifierCV(\n",
    "    estimator=best_model,   # no lugar de base_estimator\n",
    "    method='isotonic',\n",
    "    cv=3\n",
    ")\n",
    "calibrated_clf.fit(X_train_scaled, y_train)\n",
    "\n",
    "# Comparar probabilidades\n",
    "y_proba_calibrated = calibrated_clf.predict_proba(X_test_scaled)[:, 1]\n",
    "print(f\"Brier Score Original: {np.mean((y_proba_P - y_test)**2):.3f}\")\n",
    "print(f\"Brier Score Calibrado: {np.mean((y_proba_calibrated - y_test)**2):.3f}\")\n"
   ]
  },
  {
   "cell_type": "markdown",
   "id": "66e01c52",
   "metadata": {},
   "source": [
    "##### ANÁLISE DE IMPORTÂNCIA DE FEATURES"
   ]
  },
  {
   "cell_type": "code",
   "execution_count": 35,
   "id": "71e52001",
   "metadata": {},
   "outputs": [
    {
     "name": "stdout",
     "output_type": "stream",
     "text": [
      "\n",
      "🔝 TOP 10 FEATURES MAIS IMPORTANTES:\n",
      "occupation_type_encoded        0.572\n",
      "ext_score_3_encoded            0.111\n",
      "ext_score_2_encoded            0.068\n",
      "credit_card_initial_line       0.045\n",
      "start_hour                     0.041\n",
      "history_months                 0.020\n",
      "age                            0.018\n",
      "income                         0.017\n",
      "spends_sum                     0.017\n",
      "credit_line_sum                0.015\n"
     ]
    }
   ],
   "source": [
    "# Feature importance\n",
    "feature_importance = pd.DataFrame({\n",
    "    'feature': X_train_scaled.columns,\n",
    "    'importance': best_model.feature_importances_\n",
    "}).sort_values('importance', ascending=False)\n",
    "\n",
    "print(\"\\n🔝 TOP 10 FEATURES MAIS IMPORTANTES:\")\n",
    "for idx, row in feature_importance.head(10).iterrows():\n",
    "    print(f\"{row['feature']:30s} {row['importance']:.3f}\")"
   ]
  },
  {
   "cell_type": "markdown",
   "id": "62e3bace",
   "metadata": {},
   "source": [
    "\n",
    "##### VISUALIZAÇÃO DA VALIDAÇÃO CRUZADA\n"
   ]
  },
  {
   "cell_type": "code",
   "execution_count": 36,
   "id": "7e0bdc15",
   "metadata": {},
   "outputs": [],
   "source": [
    "from sklearn.model_selection import cross_validate, StratifiedKFold\n",
    "\n",
    "cv_scores = cross_validate(\n",
    "    best_model, X_train_scaled, y_train,\n",
    "    cv=StratifiedKFold(n_splits=5, shuffle=True, random_state=SEED),\n",
    "    scoring=['accuracy', 'precision', 'recall', 'f1', 'roc_auc'],\n",
    "    n_jobs=-1\n",
    ")"
   ]
  },
  {
   "cell_type": "code",
   "execution_count": 37,
   "id": "96408d1e",
   "metadata": {},
   "outputs": [
    {
     "data": {
      "image/png": "[encoded data removed]",
      "text/plain": [
       "<Figure size 800x500 with 1 Axes>"
      ]
     },
     "metadata": {},
     "output_type": "display_data"
    }
   ],
   "source": [
    "metrics = ['accuracy', 'precision', 'recall', 'f1', 'roc_auc']\n",
    "means = [cv_scores[f'test_{m}'].mean() for m in metrics]\n",
    "stds = [cv_scores[f'test_{m}'].std() * 2 for m in metrics]  # intervalo ~95%\n",
    "\n",
    "plt.figure(figsize=(8, 5))\n",
    "bars = plt.bar(metrics, means, yerr=stds, capsize=7, color=\"skyblue\", edgecolor=\"black\")\n",
    "\n",
    "# Colocar os valores em cima das barras\n",
    "for bar, mean in zip(bars, means):\n",
    "    plt.text(bar.get_x() + bar.get_width()/2, bar.get_height() + 0.01,\n",
    "             f\"{mean:.3f}\", ha=\"center\", fontsize=10, fontweight=\"bold\")\n",
    "\n",
    "plt.title(\"Validação Cruzada (5-Fold) - Métricas de Performance\")\n",
    "plt.ylabel(\"Score\")\n",
    "plt.ylim(0, 1.05)\n",
    "plt.grid(axis=\"y\", linestyle=\"--\", alpha=0.6)\n",
    "plt.show()\n"
   ]
  },
  {
   "cell_type": "markdown",
   "id": "037eb311",
   "metadata": {},
   "source": [
    "##### SIMULAÇÃO FINANCEIRA ATUALIZADA"
   ]
  },
  {
   "cell_type": "code",
   "execution_count": 38,
   "id": "382d4651",
   "metadata": {},
   "outputs": [
    {
     "name": "stdout",
     "output_type": "stream",
     "text": [
      "\n",
      " SIMULAÇÃO FINANCEIRA:\n",
      "Lucro COM modelo: R$ 4,370,200.00\n",
      "Lucro SEM modelo: R$ 3,814,000.00\n",
      "Ganho incremental: R$ 556,200.00\n",
      "Melhoria percentual: 14.6%\n"
     ]
    }
   ],
   "source": [
    "print(\"\\n SIMULAÇÃO FINANCEIRA:\")\n",
    "# Valores mais conservadores sem data leakage\n",
    "lucro_cliente_bom = 1000  # Lucro médio por cliente bom\n",
    "custo_cliente_ruim = 3000  # Perda média por inadimplente\n",
    "\n",
    "# Com modelo\n",
    "vp = np.sum((y_test == 0) & (y_pred_P == 0))  # Verdadeiros Positivos (bons aprovados)\n",
    "fp = np.sum((y_test == 1) & (y_pred_P == 0))  # Falsos Positivos (ruins aprovados)\n",
    "fn = np.sum((y_test == 0) & (y_pred_P == 1))  # Falsos Negativos (bons rejeitados)\n",
    "\n",
    "lucro_modelo = vp * lucro_cliente_bom - fp * custo_cliente_ruim - fn * (lucro_cliente_bom * 0.3)\n",
    "\n",
    "# Sem modelo (aprova todos)\n",
    "total_bons = np.sum(y_test == 0)\n",
    "total_ruins = np.sum(y_test == 1)\n",
    "lucro_sem_modelo = total_bons * lucro_cliente_bom - total_ruins * custo_cliente_ruim\n",
    "\n",
    "print(f\"Lucro COM modelo: R$ {lucro_modelo:,.2f}\")\n",
    "print(f\"Lucro SEM modelo: R$ {lucro_sem_modelo:,.2f}\")\n",
    "print(f\"Ganho incremental: R$ {lucro_modelo - lucro_sem_modelo:,.2f}\")\n",
    "print(f\"Melhoria percentual: {((lucro_modelo - lucro_sem_modelo) / abs(lucro_sem_modelo) * 100):.1f}%\")"
   ]
  },
  {
   "cell_type": "markdown",
   "id": "f1f8f57a",
   "metadata": {},
   "source": [
    "##### EXPORTAR MODELO PARA PRODUÇÃO"
   ]
  },
  {
   "cell_type": "code",
   "execution_count": 39,
   "id": "b449ab57",
   "metadata": {},
   "outputs": [
    {
     "name": "stdout",
     "output_type": "stream",
     "text": [
      "\n",
      " Modelo salvo para produção!\n"
     ]
    }
   ],
   "source": [
    "# Salvar modelo e preprocessadores\n",
    "\n",
    "# Criar pipeline completo\n",
    "production_pipeline = {\n",
    "    'model': best_model,\n",
    "    'imputer': imputer,\n",
    "    'scaler': scaler,\n",
    "    'feature_names': X_train_scaled.columns.tolist(),\n",
    "    'optimal_threshold': optimal_threshold,\n",
    "    'encoding_maps': {}  # Adicionar mapeamentos de target encoding aqui\n",
    "}\n",
    "\n",
    "# Salvar\n",
    "joblib.dump(production_pipeline, 'credit_model_production.pkl')\n",
    "print(\"\\n Modelo salvo para produção!\")"
   ]
  },
  {
   "cell_type": "markdown",
   "id": "d88cdaf2",
   "metadata": {},
   "source": [
    "##### RECOMENDAÇÕES FINAIS"
   ]
  },
  {
   "cell_type": "code",
   "execution_count": 40,
   "id": "fcb804aa",
   "metadata": {},
   "outputs": [
    {
     "name": "stdout",
     "output_type": "stream",
     "text": [
      "\n",
      " RECOMENDAÇÕES:\n",
      "1. Implementar monitoramento de drift em produção\n",
      "2. Retreinar o modelo mensalmente com dados atualizados\n",
      "3. Adicionar features externas (bureau de crédito)\n",
      "4. Considerar ensemble com outros algoritmos\n",
      "5. Implementar testes A/B antes do rollout completo\n",
      "6. Usar threshold de 0.267 em produção\n",
      "7. Monitorar métricas de fairness continuamente\n"
     ]
    }
   ],
   "source": [
    "print(\"\\n RECOMENDAÇÕES:\")\n",
    "print(\"1. Implementar monitoramento de drift em produção\")\n",
    "print(\"2. Retreinar o modelo mensalmente com dados atualizados\")\n",
    "print(\"3. Adicionar features externas (bureau de crédito)\")\n",
    "print(\"4. Considerar ensemble com outros algoritmos\")\n",
    "print(\"5. Implementar testes A/B antes do rollout completo\")\n",
    "print(f\"6. Usar threshold de {optimal_threshold:.3f} em produção\")\n",
    "print(\"7. Monitorar métricas de fairness continuamente\")"
   ]
  }
 ],
 "metadata": {
  "kernelspec": {
   "display_name": "venv",
   "language": "python",
   "name": "python3"
  },
  "language_info": {
   "codemirror_mode": {
    "name": "ipython",
    "version": 3
   },
   "file_extension": ".py",
   "mimetype": "text/x-python",
   "name": "python",
   "nbconvert_exporter": "python",
   "pygments_lexer": "ipython3",
   "version": "3.13.5"
  }
 },
 "nbformat": 4,
 "nbformat_minor": 5
}
